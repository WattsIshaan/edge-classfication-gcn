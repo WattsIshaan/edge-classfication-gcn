{
  "nbformat": 4,
  "nbformat_minor": 0,
  "metadata": {
    "colab": {
      "provenance": []
    },
    "kernelspec": {
      "name": "python3",
      "display_name": "Python 3"
    },
    "language_info": {
      "name": "python"
    },
    "accelerator": "GPU",
    "gpuClass": "premium"
  },
  "cells": [
    {
      "cell_type": "markdown",
      "source": [
        "# **GSOC CERN-HSF GNN Tracking Qualification Task**"
      ],
      "metadata": {
        "id": "guct0gqxXXXL"
      }
    },
    {
      "cell_type": "markdown",
      "source": [
        "## Problem Statement\n",
        "\n",
        "Task is to train an Edge Classifier Graph Neural Network to classify the edges (given by the edge_index) as true or false (given by the array y). The inputs to training/inference are x (the node features) and edge_features."
      ],
      "metadata": {
        "id": "Eh1lRCD7X3iz"
      }
    },
    {
      "cell_type": "markdown",
      "source": [
        "##Installing requirements\n"
      ],
      "metadata": {
        "id": "RiXlR2btaUf2"
      }
    },
    {
      "cell_type": "code",
      "execution_count": 1,
      "metadata": {
        "colab": {
          "base_uri": "https://localhost:8080/"
        },
        "id": "lGTlz3To5e8h",
        "outputId": "3fae9bd5-6c00-41f1-83dd-652b4ce95fa0"
      },
      "outputs": [
        {
          "output_type": "stream",
          "name": "stdout",
          "text": [
            "1.13.1+cu116\n",
            "11.6\n"
          ]
        }
      ],
      "source": [
        "import torch; \n",
        "print(torch.__version__)\n",
        "print(torch.version.cuda)"
      ]
    },
    {
      "cell_type": "markdown",
      "source": [
        "**Replace Torch and CUDA by respective versions in following code**\n",
        "\n",
        "\n",
        "!pip install pyg_lib torch_scatter torch_sparse -f https://data.pyg.org/whl/torch-${TORCH}+${CUDA}.html <br>\n",
        "!pip install torch-geometric"
      ],
      "metadata": {
        "id": "fsUKi0pXaa95"
      }
    },
    {
      "cell_type": "code",
      "source": [
        "!pip install pyg_lib torch_scatter torch_sparse -f https://data.pyg.org/whl/torch-1.13.1+cu116.html\n",
        "!pip install torch-geometric"
      ],
      "metadata": {
        "colab": {
          "base_uri": "https://localhost:8080/"
        },
        "id": "S_Nnkn8S6TsB",
        "outputId": "0eca619f-1e73-469b-be35-4d409ea1ef07"
      },
      "execution_count": 2,
      "outputs": [
        {
          "output_type": "stream",
          "name": "stdout",
          "text": [
            "Looking in indexes: https://pypi.org/simple, https://us-python.pkg.dev/colab-wheels/public/simple/\n",
            "Looking in links: https://data.pyg.org/whl/torch-1.13.1+cu116.html\n",
            "Requirement already satisfied: pyg_lib in /usr/local/lib/python3.8/dist-packages (0.1.0+pt113cu116)\n",
            "Requirement already satisfied: torch_scatter in /usr/local/lib/python3.8/dist-packages (2.1.0+pt113cu116)\n",
            "Requirement already satisfied: torch_sparse in /usr/local/lib/python3.8/dist-packages (0.6.16+pt113cu116)\n",
            "Requirement already satisfied: scipy in /usr/local/lib/python3.8/dist-packages (from torch_sparse) (1.10.1)\n",
            "Requirement already satisfied: numpy<1.27.0,>=1.19.5 in /usr/local/lib/python3.8/dist-packages (from scipy->torch_sparse) (1.22.4)\n",
            "Looking in indexes: https://pypi.org/simple, https://us-python.pkg.dev/colab-wheels/public/simple/\n",
            "Requirement already satisfied: torch-geometric in /usr/local/lib/python3.8/dist-packages (2.2.0)\n",
            "Requirement already satisfied: psutil>=5.8.0 in /usr/local/lib/python3.8/dist-packages (from torch-geometric) (5.9.4)\n",
            "Requirement already satisfied: tqdm in /usr/local/lib/python3.8/dist-packages (from torch-geometric) (4.64.1)\n",
            "Requirement already satisfied: scikit-learn in /usr/local/lib/python3.8/dist-packages (from torch-geometric) (1.2.1)\n",
            "Requirement already satisfied: jinja2 in /usr/local/lib/python3.8/dist-packages (from torch-geometric) (3.1.2)\n",
            "Requirement already satisfied: requests in /usr/local/lib/python3.8/dist-packages (from torch-geometric) (2.25.1)\n",
            "Requirement already satisfied: numpy in /usr/local/lib/python3.8/dist-packages (from torch-geometric) (1.22.4)\n",
            "Requirement already satisfied: pyparsing in /usr/local/lib/python3.8/dist-packages (from torch-geometric) (3.0.9)\n",
            "Requirement already satisfied: scipy in /usr/local/lib/python3.8/dist-packages (from torch-geometric) (1.10.1)\n",
            "Requirement already satisfied: MarkupSafe>=2.0 in /usr/local/lib/python3.8/dist-packages (from jinja2->torch-geometric) (2.1.2)\n",
            "Requirement already satisfied: chardet<5,>=3.0.2 in /usr/local/lib/python3.8/dist-packages (from requests->torch-geometric) (4.0.0)\n",
            "Requirement already satisfied: idna<3,>=2.5 in /usr/local/lib/python3.8/dist-packages (from requests->torch-geometric) (2.10)\n",
            "Requirement already satisfied: urllib3<1.27,>=1.21.1 in /usr/local/lib/python3.8/dist-packages (from requests->torch-geometric) (1.26.14)\n",
            "Requirement already satisfied: certifi>=2017.4.17 in /usr/local/lib/python3.8/dist-packages (from requests->torch-geometric) (2022.12.7)\n",
            "Requirement already satisfied: threadpoolctl>=2.0.0 in /usr/local/lib/python3.8/dist-packages (from scikit-learn->torch-geometric) (3.1.0)\n",
            "Requirement already satisfied: joblib>=1.1.1 in /usr/local/lib/python3.8/dist-packages (from scikit-learn->torch-geometric) (1.2.0)\n"
          ]
        }
      ]
    },
    {
      "cell_type": "code",
      "source": [
        "# Command to move into directory of dataset on my system"
      ],
      "metadata": {
        "id": "J1-sKMTmopy9"
      },
      "execution_count": 18,
      "outputs": []
    },
    {
      "cell_type": "code",
      "source": [
        "cd drive/MyDrive/GSOC/CERN-HSF"
      ],
      "metadata": {
        "colab": {
          "base_uri": "https://localhost:8080/"
        },
        "id": "rjLkh_8mtKTf",
        "outputId": "4c1575a7-d0ee-435a-8714-857cf6cbbc0f"
      },
      "execution_count": 17,
      "outputs": [
        {
          "output_type": "stream",
          "name": "stdout",
          "text": [
            "/content/drive/MyDrive/GSOC/CERN-HSF\n"
          ]
        }
      ]
    },
    {
      "cell_type": "markdown",
      "source": [
        "##Importing Required Libraries"
      ],
      "metadata": {
        "id": "AfPXmlwxbJgK"
      }
    },
    {
      "cell_type": "code",
      "source": [
        "import torch\n",
        "import numpy as np\n",
        "from pathlib import Path\n",
        "from sklearn.model_selection import train_test_split\n",
        "from sklearn.metrics import precision_recall_curve, auc, f1_score, accuracy_score\n",
        "from tqdm import tqdm\n",
        "import matplotlib.pyplot as plt\n",
        "\n",
        "from torch.utils.data import Dataset\n",
        "from torch_geometric.loader import DataLoader\n",
        "import torch.nn as nn\n",
        "import torch.nn.functional as F\n",
        "from torch_geometric.nn import GCNConv"
      ],
      "metadata": {
        "id": "x4H-YIaX7hZG"
      },
      "execution_count": 19,
      "outputs": []
    },
    {
      "cell_type": "markdown",
      "source": [
        "## Data Loading\n",
        "\n",
        "### Custom Dataset class. \n",
        "\n",
        "1. It recursively reads all the files ending with ```.pt extentsion``` in the home directory and the sub-directories. \n",
        "2. The data is then split into ```80/10/10 train-val-test split```. Can be changed.\n",
        "3. Not all data is loaded into memory."
      ],
      "metadata": {
        "id": "dpYrS41h6x4u"
      }
    },
    {
      "cell_type": "code",
      "source": [
        "class MyDataset(Dataset):\n",
        "\n",
        "    \"\"\"\n",
        "     It recursively reads all the files ending with .pt extentsion in the directory and the sub-directories. \n",
        "     The data is then split into 80/10/10 train-val-test split. Split ratio can be specified. Default value is set to 0.8 train size.\n",
        "     Not all data is loaded into memory.\n",
        "    \"\"\"\n",
        "\n",
        "    def __init__(self, path: Path, split_ratio = 0.2, split = 'train', random_seed = 1):\n",
        "        super().__init__()\n",
        "\n",
        "        # Recursively reading all .pth files from the directory and sub-directories\n",
        "        self.data_list = list(path.glob(\"*/*[0-9].pt\"))\n",
        "\n",
        "        self.split_ratio = split_ratio\n",
        "        self.split = split\n",
        "        self.random_seed = random_seed\n",
        "        \n",
        "        # Split the data into training and test sets\n",
        "\n",
        "        train_data_list, rem_data_list = train_test_split(self.data_list, test_size=split_ratio, random_state=random_seed)\n",
        "        val_data_list, test_data_list = train_test_split(rem_data_list, test_size=0.5, random_state=random_seed)\n",
        "        \n",
        "        # Set the data list to the appropriate split\n",
        "\n",
        "        if split == 'train':\n",
        "            self.graphs = train_data_list\n",
        "        elif split == 'test':\n",
        "            self.graphs = test_data_list\n",
        "        elif split == 'val':\n",
        "            self.graphs = val_data_list\n",
        "        else:\n",
        "            raise ValueError(f\"Invalid split: {split}\")\n",
        "      \n",
        "    def __getitem__(self, idx):\n",
        "        return torch.load(self.graphs[idx])\n",
        "    \n",
        "    def __len__(self) -> int:\n",
        "        return len(self.graphs)"
      ],
      "metadata": {
        "id": "j7pW7Rt8GPke"
      },
      "execution_count": 21,
      "outputs": []
    },
    {
      "cell_type": "code",
      "source": [
        "# Dataset should be available in present working directory\n",
        "# Total 9996 graphs\n",
        "\n",
        "train_dataset = MyDataset(Path(\"./\"), split = 'train')\n",
        "val_dataset = MyDataset(Path(\"./\"), split = 'val')\n",
        "test_dataset = MyDataset(Path(\"./\"), split = 'test')"
      ],
      "metadata": {
        "id": "BhXEHtWcbkmM"
      },
      "execution_count": 22,
      "outputs": []
    },
    {
      "cell_type": "markdown",
      "source": [
        "### Function to create DataLoader objects for each split\n"
      ],
      "metadata": {
        "id": "EeOAjBd7hFWV"
      }
    },
    {
      "cell_type": "code",
      "source": [
        "def get_data_loaders(train_dataset, val_dataset, test_dataset, batch_size=32):\n",
        "\n",
        "    \"\"\"\n",
        "    Function to create the DataLoaders for train-val-test data. \n",
        "    Can specify batch size. Default value is set to 32.\n",
        "    \"\"\"\n",
        "\n",
        "    # Shuffle=True for training data to get diversity in batches at each training epoch\n",
        "    train_loader = DataLoader(train_dataset, batch_size=batch_size, shuffle=True)\n",
        "    val_loader = DataLoader(val_dataset, batch_size=batch_size, shuffle=False)\n",
        "    test_loader = DataLoader(test_dataset, batch_size=batch_size, shuffle=False)\n",
        "\n",
        "    return train_loader, val_loader, test_loader\n",
        "\n",
        "train_loader, val_loader, test_loader = get_data_loaders(train_dataset, val_dataset, \n",
        "                                                         test_dataset, batch_size=32)"
      ],
      "metadata": {
        "id": "PZEq4U9eersv"
      },
      "execution_count": 23,
      "outputs": []
    },
    {
      "cell_type": "code",
      "source": [
        "# Number of graphs used for each split\n",
        "\n",
        "print(len(train_dataset), len(test_dataset), len(val_dataset))"
      ],
      "metadata": {
        "colab": {
          "base_uri": "https://localhost:8080/"
        },
        "id": "rMyrFqlLXHgd",
        "outputId": "1f4a11c7-2c3a-40a3-a210-9af6ac4e0e18"
      },
      "execution_count": 24,
      "outputs": [
        {
          "output_type": "stream",
          "name": "stdout",
          "text": [
            "7996 1000 1000\n"
          ]
        }
      ]
    },
    {
      "cell_type": "markdown",
      "source": [
        "### Set up device"
      ],
      "metadata": {
        "id": "Ji56MiHkhNzA"
      }
    },
    {
      "cell_type": "code",
      "source": [
        "def get_device():\n",
        "    return torch.device('cuda' if torch.cuda.is_available() else 'cpu')"
      ],
      "metadata": {
        "id": "VkucJLtkhQXs"
      },
      "execution_count": 25,
      "outputs": []
    },
    {
      "cell_type": "code",
      "source": [
        "device = get_device()\n",
        "print(device)"
      ],
      "metadata": {
        "colab": {
          "base_uri": "https://localhost:8080/"
        },
        "id": "eehWnsxohR3n",
        "outputId": "2f13ba64-0868-4cd1-a9f8-3236a8bd1397"
      },
      "execution_count": 26,
      "outputs": [
        {
          "output_type": "stream",
          "name": "stdout",
          "text": [
            "cuda\n"
          ]
        }
      ]
    },
    {
      "cell_type": "markdown",
      "source": [
        "# Model\n",
        "\n"
      ],
      "metadata": {
        "id": "XB6RHO9WVl0v"
      }
    },
    {
      "cell_type": "markdown",
      "source": [
        "### Model Architecture\n",
        "\n",
        "1. GCNConv layers are used for message passing between nodes in the graph. We use **two GCNConv layers** to extract node features.\n",
        "\n",
        "2. After message passing, we **concatenate the node features with the edge features** to get a combined feature vector for each edge.\n",
        "\n",
        "3. We then apply **two fully connected layers** to classify the edges, with a ReLU activation function and dropout regularization."
      ],
      "metadata": {
        "id": "z8qhLYaYC7CG"
      }
    },
    {
      "cell_type": "code",
      "source": [
        "class EdgeClassifier(nn.Module):\n",
        "\n",
        "    \"\"\"\n",
        "    GNN network for edge classifcation. \n",
        "    Default parameters have node_features = 6, edge_features = 4, hidden_channels = 64, classes = 2\n",
        "\n",
        "    2-hop GCN for node features aggregation with activation as ReLU.\n",
        "    Followed by concatenation of the neighboring nodes of an edge with it's own features \n",
        "    to get a feature vector for each.\n",
        "    Finally followed by linear layers and dropout.\n",
        "    \"\"\"\n",
        "\n",
        "    def __init__(self, num_node_features = 6, num_edge_features = 4, hidden_channels = 64, num_classes = 2):\n",
        "        super(EdgeClassifier, self).__init__()\n",
        "        \n",
        "        self.conv1 = GCNConv(num_node_features, hidden_channels)\n",
        "        self.conv2 = GCNConv(hidden_channels, hidden_channels)\n",
        "        self.lin1 = nn.Linear(num_edge_features + 2 * hidden_channels, hidden_channels)\n",
        "        self.lin2 = nn.Linear(hidden_channels, num_classes)\n",
        "    \n",
        "    def forward(self, data):\n",
        "\n",
        "        x, edge_index, edge_attr = data.x, data.edge_index, data.edge_attr\n",
        "\n",
        "        # Aggreagation of Node features\n",
        "        x = F.relu(self.conv1(x, edge_index))\n",
        "        x = F.relu(self.conv2(x, edge_index))\n",
        "\n",
        "        # Concatenation of features of nodes and the edge between them\n",
        "        x = torch.cat([x[edge_index[0]], x[edge_index[1]], edge_attr], dim=1)\n",
        "\n",
        "        x = F.relu(self.lin1(x))\n",
        "        x = F.dropout(x, p=0.5, training=self.training)\n",
        "        x = self.lin2(x)\n",
        "\n",
        "        # No softmax since Cross-Entropy Loss also applies softmax\n",
        "\n",
        "        return x"
      ],
      "metadata": {
        "id": "vmJZUpzWV1kJ"
      },
      "execution_count": 27,
      "outputs": []
    },
    {
      "cell_type": "markdown",
      "source": [
        "### Handling Data-Imbalance\n",
        "\n"
      ],
      "metadata": {
        "id": "eOgnpHxPC-LO"
      }
    },
    {
      "cell_type": "markdown",
      "source": [
        "The dataset contains two edge labels 0 and 1. Upon analysis I found the ratio for ```label1 : label0 is approximately 1 : 4```.\n",
        "\n",
        "To handle this, I have given more weightage to loss occured by the minority class (here label1). \n",
        "\n",
        "The formula used is:\n",
        "\n",
        "<center>weight1 = 1/(total samples * freq1)<br>\n",
        "weight0 = 1/(total samples * freq0)</center>"
      ],
      "metadata": {
        "id": "a_m1Hu2Chc0h"
      }
    },
    {
      "cell_type": "code",
      "source": [
        "def calculate_class_weights(train_loader):\n",
        "\n",
        "    \"\"\"\n",
        "    Calculates weightage given to each sample in calculating loss by taking inverse of their frequency.\n",
        "    Currently functional for binary labelled dataset.\n",
        "    \"\"\"\n",
        "\n",
        "    # Counting frequency of edges having label as 1\n",
        "    sum = 0\n",
        "    total = 0\n",
        "    for data in tqdm(train_loader):\n",
        "        sum += data.y.sum().item()\n",
        "        total += len(data.y)\n",
        "\n",
        "    freq1 = sum/total\n",
        "    freq0 = 1-freq1\n",
        "    weight1 = 1/(total*freq1)\n",
        "    weight0 = 1/(total*freq0)\n",
        "\n",
        "    print(f'Frequency of class 0 : {freq0}, Assigned weight : {weight0}')\n",
        "    print(f'Frequency of class 1 : {freq1}, Assigned weight : {weight1}')\n",
        "\n",
        "    return torch.tensor([weight0, weight1]).to(get_device())"
      ],
      "metadata": {
        "id": "oPKKFxA2hbUg"
      },
      "execution_count": 28,
      "outputs": []
    },
    {
      "cell_type": "code",
      "source": [
        "# Getting the weights\n",
        "\n",
        "weights = calculate_class_weights(train_loader)"
      ],
      "metadata": {
        "colab": {
          "base_uri": "https://localhost:8080/"
        },
        "id": "fKxtMkfujT1G",
        "outputId": "de84a448-7d34-4b10-e9fa-ce65e695469a"
      },
      "execution_count": 29,
      "outputs": [
        {
          "output_type": "stream",
          "name": "stderr",
          "text": [
            "100%|██████████| 250/250 [1:22:18<00:00, 19.76s/it]\n"
          ]
        },
        {
          "output_type": "stream",
          "name": "stdout",
          "text": [
            "Frequency of class 0 : 0.8237903406190967, Assigned weight : 3.856839665466984e-08\n",
            "Frequency of class 1 : 0.1762096593809033, Assigned weight : 1.8030948319695926e-07\n"
          ]
        }
      ]
    },
    {
      "cell_type": "markdown",
      "source": [
        "### Creating the model and setting the optimizer and loss function"
      ],
      "metadata": {
        "id": "Yw3MU9aLDD8g"
      }
    },
    {
      "cell_type": "code",
      "source": [
        "# Instantiating the model\n",
        "\n",
        "model = EdgeClassifier(num_node_features=6, num_edge_features=4, hidden_channels=64, num_classes=2)\n",
        "model = model.to(device)\n",
        "\n",
        "# Adam is used as the optimizer with learning rate = 0.0001\n",
        "# Loss function is CrossEntropyLoss with custom weights\n",
        "\n",
        "optimizer = torch.optim.Adam(model.parameters(), lr=0.001)\n",
        "criterion = nn.CrossEntropyLoss(weight=weights)"
      ],
      "metadata": {
        "id": "Kw5Rly5NlzrX"
      },
      "execution_count": 30,
      "outputs": []
    },
    {
      "cell_type": "markdown",
      "source": [
        "### Defning Training and Validation functions"
      ],
      "metadata": {
        "id": "jwjv2wtzk7gO"
      }
    },
    {
      "cell_type": "code",
      "source": [
        "# Training the Model\n",
        "\n",
        "def train(model, device, train_loader, optimizer, criterion):\n",
        "\n",
        "    model.train()\n",
        "    correct = 0\n",
        "    total = 0\n",
        "    total_loss = 0\n",
        "\n",
        "    for data in tqdm(train_loader):\n",
        "\n",
        "        data = data.to(device)\n",
        "        optimizer.zero_grad()\n",
        "\n",
        "        # Forward and Backward Propagation\n",
        "        out = model(data)\n",
        "        loss = criterion(out, data.y.long())\n",
        "        loss.backward()\n",
        "        optimizer.step()\n",
        "\n",
        "        total_loss += loss.item()\n",
        "\n",
        "        # Calculation of correctly classified edges\n",
        "        pred = out.argmax(dim=1)\n",
        "        correct += (pred == data.y).sum().item()\n",
        "        total += len(pred)\n",
        "\n",
        "    train_loss = total_loss / len(train_loader)\n",
        "    train_acc = correct / total\n",
        "\n",
        "    print(f'Train Loss : {train_loss:.4f}')\n",
        "    print(f'Train Accuracy: {train_acc:.3f}')\n",
        "\n",
        "    return model, train_loss"
      ],
      "metadata": {
        "id": "_ddN-Z6Mk6jl"
      },
      "execution_count": 31,
      "outputs": []
    },
    {
      "cell_type": "code",
      "source": [
        "# Validation Function\n",
        "\n",
        "def evaluate(model, device, loader):\n",
        "\n",
        "    model.eval()\n",
        "    correct = 0\n",
        "    total = 0\n",
        "\n",
        "    with torch.no_grad():\n",
        "        for data in tqdm(loader):\n",
        "\n",
        "            data = data.to(device)\n",
        "            out = model(data)\n",
        "\n",
        "            # Calculation of correctly classified edges\n",
        "            pred = out.argmax(dim=1)\n",
        "            correct += (pred == data.y).sum().item()\n",
        "            total += len(pred)\n",
        "\n",
        "        acc = correct / total\n",
        "        print(f'Validation Accuracy {acc:.3f}')"
      ],
      "metadata": {
        "id": "muHzZpedlybk"
      },
      "execution_count": 32,
      "outputs": []
    },
    {
      "cell_type": "markdown",
      "source": [
        "### Traning the Model"
      ],
      "metadata": {
        "id": "6Jad5THZmwXN"
      }
    },
    {
      "cell_type": "code",
      "source": [
        "# Training Loop\n",
        "\n",
        "epochs = 20\n",
        "\n",
        "for epoch in range(epochs):\n",
        "\n",
        "  print(f'Epoch : {epoch+1} \\n')\n",
        "\n",
        "  model, loss = train(model, device, train_loader, optimizer, criterion)\n",
        "  evaluate(model, device, val_loader)\n",
        "\n",
        "  print('\\n')"
      ],
      "metadata": {
        "colab": {
          "base_uri": "https://localhost:8080/"
        },
        "id": "6j0FOdyxmuTY",
        "outputId": "e7bcd2ce-8b2c-4deb-9977-c498fca4efcc"
      },
      "execution_count": 33,
      "outputs": [
        {
          "output_type": "stream",
          "name": "stdout",
          "text": [
            "Epoch : 1 \n",
            "\n"
          ]
        },
        {
          "output_type": "stream",
          "name": "stderr",
          "text": [
            "100%|██████████| 250/250 [00:15<00:00, 16.14it/s]\n"
          ]
        },
        {
          "output_type": "stream",
          "name": "stdout",
          "text": [
            "Train Loss : 0.4901\n",
            "Train Accuracy: 0.810\n"
          ]
        },
        {
          "output_type": "stream",
          "name": "stderr",
          "text": [
            "100%|██████████| 32/32 [10:07<00:00, 19.00s/it]\n"
          ]
        },
        {
          "output_type": "stream",
          "name": "stdout",
          "text": [
            "Validation Accuracy 0.827\n",
            "\n",
            "\n",
            "Epoch : 2 \n",
            "\n"
          ]
        },
        {
          "output_type": "stream",
          "name": "stderr",
          "text": [
            "100%|██████████| 250/250 [00:14<00:00, 17.43it/s]\n"
          ]
        },
        {
          "output_type": "stream",
          "name": "stdout",
          "text": [
            "Train Loss : 0.3933\n",
            "Train Accuracy: 0.841\n"
          ]
        },
        {
          "output_type": "stream",
          "name": "stderr",
          "text": [
            "100%|██████████| 32/32 [00:01<00:00, 20.37it/s]\n"
          ]
        },
        {
          "output_type": "stream",
          "name": "stdout",
          "text": [
            "Validation Accuracy 0.855\n",
            "\n",
            "\n",
            "Epoch : 3 \n",
            "\n"
          ]
        },
        {
          "output_type": "stream",
          "name": "stderr",
          "text": [
            "100%|██████████| 250/250 [00:14<00:00, 17.38it/s]\n"
          ]
        },
        {
          "output_type": "stream",
          "name": "stdout",
          "text": [
            "Train Loss : 0.3658\n",
            "Train Accuracy: 0.853\n"
          ]
        },
        {
          "output_type": "stream",
          "name": "stderr",
          "text": [
            "100%|██████████| 32/32 [00:01<00:00, 21.01it/s]\n"
          ]
        },
        {
          "output_type": "stream",
          "name": "stdout",
          "text": [
            "Validation Accuracy 0.858\n",
            "\n",
            "\n",
            "Epoch : 4 \n",
            "\n"
          ]
        },
        {
          "output_type": "stream",
          "name": "stderr",
          "text": [
            "100%|██████████| 250/250 [00:14<00:00, 17.13it/s]\n"
          ]
        },
        {
          "output_type": "stream",
          "name": "stdout",
          "text": [
            "Train Loss : 0.3463\n",
            "Train Accuracy: 0.870\n"
          ]
        },
        {
          "output_type": "stream",
          "name": "stderr",
          "text": [
            "100%|██████████| 32/32 [00:01<00:00, 20.88it/s]\n"
          ]
        },
        {
          "output_type": "stream",
          "name": "stdout",
          "text": [
            "Validation Accuracy 0.880\n",
            "\n",
            "\n",
            "Epoch : 5 \n",
            "\n"
          ]
        },
        {
          "output_type": "stream",
          "name": "stderr",
          "text": [
            "100%|██████████| 250/250 [00:14<00:00, 17.27it/s]\n"
          ]
        },
        {
          "output_type": "stream",
          "name": "stdout",
          "text": [
            "Train Loss : 0.3336\n",
            "Train Accuracy: 0.882\n"
          ]
        },
        {
          "output_type": "stream",
          "name": "stderr",
          "text": [
            "100%|██████████| 32/32 [00:01<00:00, 20.60it/s]\n"
          ]
        },
        {
          "output_type": "stream",
          "name": "stdout",
          "text": [
            "Validation Accuracy 0.898\n",
            "\n",
            "\n",
            "Epoch : 6 \n",
            "\n"
          ]
        },
        {
          "output_type": "stream",
          "name": "stderr",
          "text": [
            "100%|██████████| 250/250 [00:14<00:00, 17.40it/s]\n"
          ]
        },
        {
          "output_type": "stream",
          "name": "stdout",
          "text": [
            "Train Loss : 0.3242\n",
            "Train Accuracy: 0.889\n"
          ]
        },
        {
          "output_type": "stream",
          "name": "stderr",
          "text": [
            "100%|██████████| 32/32 [00:01<00:00, 19.93it/s]\n"
          ]
        },
        {
          "output_type": "stream",
          "name": "stdout",
          "text": [
            "Validation Accuracy 0.902\n",
            "\n",
            "\n",
            "Epoch : 7 \n",
            "\n"
          ]
        },
        {
          "output_type": "stream",
          "name": "stderr",
          "text": [
            "100%|██████████| 250/250 [00:14<00:00, 17.62it/s]\n"
          ]
        },
        {
          "output_type": "stream",
          "name": "stdout",
          "text": [
            "Train Loss : 0.3127\n",
            "Train Accuracy: 0.895\n"
          ]
        },
        {
          "output_type": "stream",
          "name": "stderr",
          "text": [
            "100%|██████████| 32/32 [00:01<00:00, 19.96it/s]\n"
          ]
        },
        {
          "output_type": "stream",
          "name": "stdout",
          "text": [
            "Validation Accuracy 0.895\n",
            "\n",
            "\n",
            "Epoch : 8 \n",
            "\n"
          ]
        },
        {
          "output_type": "stream",
          "name": "stderr",
          "text": [
            "100%|██████████| 250/250 [00:14<00:00, 17.38it/s]\n"
          ]
        },
        {
          "output_type": "stream",
          "name": "stdout",
          "text": [
            "Train Loss : 0.2935\n",
            "Train Accuracy: 0.900\n"
          ]
        },
        {
          "output_type": "stream",
          "name": "stderr",
          "text": [
            "100%|██████████| 32/32 [00:01<00:00, 20.77it/s]\n"
          ]
        },
        {
          "output_type": "stream",
          "name": "stdout",
          "text": [
            "Validation Accuracy 0.908\n",
            "\n",
            "\n",
            "Epoch : 9 \n",
            "\n"
          ]
        },
        {
          "output_type": "stream",
          "name": "stderr",
          "text": [
            "100%|██████████| 250/250 [00:14<00:00, 17.16it/s]\n"
          ]
        },
        {
          "output_type": "stream",
          "name": "stdout",
          "text": [
            "Train Loss : 0.2683\n",
            "Train Accuracy: 0.906\n"
          ]
        },
        {
          "output_type": "stream",
          "name": "stderr",
          "text": [
            "100%|██████████| 32/32 [00:01<00:00, 20.24it/s]\n"
          ]
        },
        {
          "output_type": "stream",
          "name": "stdout",
          "text": [
            "Validation Accuracy 0.913\n",
            "\n",
            "\n",
            "Epoch : 10 \n",
            "\n"
          ]
        },
        {
          "output_type": "stream",
          "name": "stderr",
          "text": [
            "100%|██████████| 250/250 [00:14<00:00, 17.54it/s]\n"
          ]
        },
        {
          "output_type": "stream",
          "name": "stdout",
          "text": [
            "Train Loss : 0.2482\n",
            "Train Accuracy: 0.909\n"
          ]
        },
        {
          "output_type": "stream",
          "name": "stderr",
          "text": [
            "100%|██████████| 32/32 [00:01<00:00, 20.05it/s]\n"
          ]
        },
        {
          "output_type": "stream",
          "name": "stdout",
          "text": [
            "Validation Accuracy 0.918\n",
            "\n",
            "\n",
            "Epoch : 11 \n",
            "\n"
          ]
        },
        {
          "output_type": "stream",
          "name": "stderr",
          "text": [
            "100%|██████████| 250/250 [00:14<00:00, 17.43it/s]\n"
          ]
        },
        {
          "output_type": "stream",
          "name": "stdout",
          "text": [
            "Train Loss : 0.2314\n",
            "Train Accuracy: 0.911\n"
          ]
        },
        {
          "output_type": "stream",
          "name": "stderr",
          "text": [
            "100%|██████████| 32/32 [00:01<00:00, 20.69it/s]\n"
          ]
        },
        {
          "output_type": "stream",
          "name": "stdout",
          "text": [
            "Validation Accuracy 0.915\n",
            "\n",
            "\n",
            "Epoch : 12 \n",
            "\n"
          ]
        },
        {
          "output_type": "stream",
          "name": "stderr",
          "text": [
            "100%|██████████| 250/250 [00:14<00:00, 17.47it/s]\n"
          ]
        },
        {
          "output_type": "stream",
          "name": "stdout",
          "text": [
            "Train Loss : 0.2181\n",
            "Train Accuracy: 0.912\n"
          ]
        },
        {
          "output_type": "stream",
          "name": "stderr",
          "text": [
            "100%|██████████| 32/32 [00:01<00:00, 20.41it/s]\n"
          ]
        },
        {
          "output_type": "stream",
          "name": "stdout",
          "text": [
            "Validation Accuracy 0.920\n",
            "\n",
            "\n",
            "Epoch : 13 \n",
            "\n"
          ]
        },
        {
          "output_type": "stream",
          "name": "stderr",
          "text": [
            "100%|██████████| 250/250 [00:14<00:00, 17.58it/s]\n"
          ]
        },
        {
          "output_type": "stream",
          "name": "stdout",
          "text": [
            "Train Loss : 0.2075\n",
            "Train Accuracy: 0.913\n"
          ]
        },
        {
          "output_type": "stream",
          "name": "stderr",
          "text": [
            "100%|██████████| 32/32 [00:01<00:00, 19.92it/s]\n"
          ]
        },
        {
          "output_type": "stream",
          "name": "stdout",
          "text": [
            "Validation Accuracy 0.921\n",
            "\n",
            "\n",
            "Epoch : 14 \n",
            "\n"
          ]
        },
        {
          "output_type": "stream",
          "name": "stderr",
          "text": [
            "100%|██████████| 250/250 [00:14<00:00, 17.42it/s]\n"
          ]
        },
        {
          "output_type": "stream",
          "name": "stdout",
          "text": [
            "Train Loss : 0.1983\n",
            "Train Accuracy: 0.914\n"
          ]
        },
        {
          "output_type": "stream",
          "name": "stderr",
          "text": [
            "100%|██████████| 32/32 [00:01<00:00, 19.92it/s]\n"
          ]
        },
        {
          "output_type": "stream",
          "name": "stdout",
          "text": [
            "Validation Accuracy 0.925\n",
            "\n",
            "\n",
            "Epoch : 15 \n",
            "\n"
          ]
        },
        {
          "output_type": "stream",
          "name": "stderr",
          "text": [
            "100%|██████████| 250/250 [00:14<00:00, 17.72it/s]\n"
          ]
        },
        {
          "output_type": "stream",
          "name": "stdout",
          "text": [
            "Train Loss : 0.1906\n",
            "Train Accuracy: 0.914\n"
          ]
        },
        {
          "output_type": "stream",
          "name": "stderr",
          "text": [
            "100%|██████████| 32/32 [00:01<00:00, 21.05it/s]\n"
          ]
        },
        {
          "output_type": "stream",
          "name": "stdout",
          "text": [
            "Validation Accuracy 0.921\n",
            "\n",
            "\n",
            "Epoch : 16 \n",
            "\n"
          ]
        },
        {
          "output_type": "stream",
          "name": "stderr",
          "text": [
            "100%|██████████| 250/250 [00:13<00:00, 17.96it/s]\n"
          ]
        },
        {
          "output_type": "stream",
          "name": "stdout",
          "text": [
            "Train Loss : 0.1842\n",
            "Train Accuracy: 0.915\n"
          ]
        },
        {
          "output_type": "stream",
          "name": "stderr",
          "text": [
            "100%|██████████| 32/32 [00:01<00:00, 20.70it/s]\n"
          ]
        },
        {
          "output_type": "stream",
          "name": "stdout",
          "text": [
            "Validation Accuracy 0.929\n",
            "\n",
            "\n",
            "Epoch : 17 \n",
            "\n"
          ]
        },
        {
          "output_type": "stream",
          "name": "stderr",
          "text": [
            "100%|██████████| 250/250 [00:13<00:00, 17.90it/s]\n"
          ]
        },
        {
          "output_type": "stream",
          "name": "stdout",
          "text": [
            "Train Loss : 0.1785\n",
            "Train Accuracy: 0.916\n"
          ]
        },
        {
          "output_type": "stream",
          "name": "stderr",
          "text": [
            "100%|██████████| 32/32 [00:01<00:00, 21.19it/s]\n"
          ]
        },
        {
          "output_type": "stream",
          "name": "stdout",
          "text": [
            "Validation Accuracy 0.924\n",
            "\n",
            "\n",
            "Epoch : 18 \n",
            "\n"
          ]
        },
        {
          "output_type": "stream",
          "name": "stderr",
          "text": [
            "100%|██████████| 250/250 [00:13<00:00, 17.93it/s]\n"
          ]
        },
        {
          "output_type": "stream",
          "name": "stdout",
          "text": [
            "Train Loss : 0.1740\n",
            "Train Accuracy: 0.916\n"
          ]
        },
        {
          "output_type": "stream",
          "name": "stderr",
          "text": [
            "100%|██████████| 32/32 [00:01<00:00, 20.99it/s]\n"
          ]
        },
        {
          "output_type": "stream",
          "name": "stdout",
          "text": [
            "Validation Accuracy 0.925\n",
            "\n",
            "\n",
            "Epoch : 19 \n",
            "\n"
          ]
        },
        {
          "output_type": "stream",
          "name": "stderr",
          "text": [
            "100%|██████████| 250/250 [00:14<00:00, 17.49it/s]\n"
          ]
        },
        {
          "output_type": "stream",
          "name": "stdout",
          "text": [
            "Train Loss : 0.1694\n",
            "Train Accuracy: 0.917\n"
          ]
        },
        {
          "output_type": "stream",
          "name": "stderr",
          "text": [
            "100%|██████████| 32/32 [00:01<00:00, 20.36it/s]\n"
          ]
        },
        {
          "output_type": "stream",
          "name": "stdout",
          "text": [
            "Validation Accuracy 0.920\n",
            "\n",
            "\n",
            "Epoch : 20 \n",
            "\n"
          ]
        },
        {
          "output_type": "stream",
          "name": "stderr",
          "text": [
            "100%|██████████| 250/250 [00:14<00:00, 17.55it/s]\n"
          ]
        },
        {
          "output_type": "stream",
          "name": "stdout",
          "text": [
            "Train Loss : 0.1660\n",
            "Train Accuracy: 0.918\n"
          ]
        },
        {
          "output_type": "stream",
          "name": "stderr",
          "text": [
            "100%|██████████| 32/32 [00:01<00:00, 20.68it/s]"
          ]
        },
        {
          "output_type": "stream",
          "name": "stdout",
          "text": [
            "Validation Accuracy 0.922\n",
            "\n",
            "\n"
          ]
        },
        {
          "output_type": "stream",
          "name": "stderr",
          "text": [
            "\n"
          ]
        }
      ]
    },
    {
      "cell_type": "markdown",
      "source": [
        "### Testing the model"
      ],
      "metadata": {
        "id": "lFgakmZUDnL2"
      }
    },
    {
      "cell_type": "code",
      "source": [
        "# Testing function\n",
        "\n",
        "def test(model, device, loader):\n",
        "\n",
        "    model.eval()\n",
        "    y_true = []\n",
        "    y_probas = []\n",
        "    y_pred = []\n",
        "\n",
        "    with torch.no_grad():\n",
        "        for data in tqdm(loader):\n",
        "\n",
        "            data = data.to(device)\n",
        "            out = model(data)\n",
        "            \n",
        "            y_true += data.y.cpu().numpy().tolist()\n",
        "            y_pred += out.argmax(dim=1).cpu().numpy().tolist()  # absoulte predictions\n",
        "            y_probas += out[:, 1].cpu().numpy().tolist()  # probability of class 1\n",
        "\n",
        "    # Calculating few metrics\n",
        "\n",
        "    acc = accuracy_score(y_true, y_pred)\n",
        "    f1 = f1_score(y_true, y_pred)\n",
        "    precision, recall, thresholds = precision_recall_curve(y_true, y_probas)\n",
        "    area = auc(recall, precision)\n",
        "\n",
        "    print('\\nResults\\n')\n",
        "    print(f'Testing Accuracy {acc:.3f}')\n",
        "    print(f'F1 score: {f1:.3f}')\n",
        "    print(f'AUCPR: {area:.3f}\\n')\n",
        "\n",
        "    return acc, f1, precision, recall, area"
      ],
      "metadata": {
        "id": "QLab3jIFAP-l"
      },
      "execution_count": 34,
      "outputs": []
    },
    {
      "cell_type": "code",
      "source": [
        "# Function for plotting and saving the AUCPR curve\n",
        "# AUCPR is used as metric and not ROC. \n",
        "# Since, if the dataset is highly imbalanced then FPR would be close to 0 since TN  would be very high. \n",
        "\n",
        "def plot_pr_curve(precision, recall, area, name='pr-curve'):\n",
        "\n",
        "    plt.plot(recall, precision)\n",
        "\n",
        "    plt.plot([1, 0], [0, 1], 'k--')\n",
        "    plt.xlabel('Recall')\n",
        "    plt.ylabel('Precision')\n",
        "    plt.title(f'Precision-Recall curve, AUC:{area:.3f}')\n",
        "    plt.savefig(f'{name}.png')\n",
        "    plt.show()"
      ],
      "metadata": {
        "id": "0dStNjzEpvzK"
      },
      "execution_count": 35,
      "outputs": []
    },
    {
      "cell_type": "code",
      "source": [
        "# Testing the Model \n",
        "\n",
        "acc, f1, precision, recall, area = test(model, device, test_loader)\n",
        "plot_pr_curve(precision, recall, area)"
      ],
      "metadata": {
        "colab": {
          "base_uri": "https://localhost:8080/",
          "height": 431
        },
        "id": "LQZ9f2dVoJX6",
        "outputId": "856bf06e-63d0-4ec4-8ddf-8b78038b4f76"
      },
      "execution_count": 37,
      "outputs": [
        {
          "output_type": "stream",
          "name": "stderr",
          "text": [
            "100%|██████████| 32/32 [04:19<00:00,  8.10s/it]\n"
          ]
        },
        {
          "output_type": "stream",
          "name": "stdout",
          "text": [
            "\n",
            "Results\n",
            "\n",
            "Testing Accuracy 0.923\n",
            "F1 score: 0.820\n",
            "AUCPR: 0.942\n",
            "\n"
          ]
        },
        {
          "output_type": "display_data",
          "data": {
            "text/plain": [
              "<Figure size 432x288 with 1 Axes>"
            ],
            "image/png": "[encoded data removed]"
          },
          "metadata": {
            "needs_background": "light"
          }
        }
      ]
    }
  ]
}